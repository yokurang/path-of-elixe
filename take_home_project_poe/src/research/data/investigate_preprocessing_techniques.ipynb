{
 "cells": [
  {
   "cell_type": "code",
   "execution_count": 3,
   "id": "4640788b",
   "metadata": {},
   "outputs": [
    {
     "name": "stdout",
     "output_type": "stream",
     "text": [
      "CWD: /Users/yokurang/Documents/Recruiting/AlphaGrep/path-of-elix/take_home_project_poe/src/research/data\n",
      "sys.path:\n",
      "    /Users/yokurang/Documents/Recruiting/AlphaGrep/path-of-elix/take_home_project_poe\n",
      "    /opt/homebrew/Cellar/python@3.13/3.13.7/Frameworks/Python.framework/Versions/3.13/lib/python313.zip\n",
      "    /opt/homebrew/Cellar/python@3.13/3.13.7/Frameworks/Python.framework/Versions/3.13/lib/python3.13\n",
      "    /opt/homebrew/Cellar/python@3.13/3.13.7/Frameworks/Python.framework/Versions/3.13/lib/python3.13/lib-dynload\n",
      "    \n",
      "    /Users/yokurang/Documents/Recruiting/AlphaGrep/path-of-elix/take_home_project_poe/.venv/lib/python3.13/site-packages\n"
     ]
    }
   ],
   "source": [
    "import sys, os\n",
    "project_root = os.path.abspath(os.path.join(os.getcwd(), \"../../..\"))\n",
    "sys.path.insert(0, project_root)\n",
    "\n",
    "import nest_asyncio; nest_asyncio.apply()\n",
    "from src.recorder.market_item_listener import search_to_dataframe\n",
    "\n",
    "# debugging ModuleNotFound errors\n",
    "print(\"CWD:\", os.getcwd())\n",
    "\n",
    "print(\"sys.path:\")\n",
    "for p in sys.path:\n",
    "    print(\"   \", p)"
   ]
  },
  {
   "cell_type": "code",
   "execution_count": 4,
   "id": "4af06640",
   "metadata": {},
   "outputs": [
    {
     "name": "stdout",
     "output_type": "stream",
     "text": [
      "100\n",
      "              label  bulk_corrupted base_currency                                                                id    league realm               indexed          seller   fee  price_amount_original price_currency_original price_type  price_amount_in_base price_currency_in_base  price_rate_to_base  verified  rarity     base_type                      type_line          name  ilvl  identified  corrupted  duplicated  unmodifiable category stack_size max_stack_size support gem_sockets weapon_requirements gem_tabs gem_background gem_skill sec_descr_text flavour_text descr_text sockets                                            properties                                                              requirements granted_skills socketed_items                                                                                                                                                                                                                                                                                                                                                                                                                                                                                                                                                                                                                                                                                                                                                                                                                                                                                                                     extended rune_mods desecrated_mods                                         implicit_mods                                                                                                                                                            explicit_mods veiled_mods  desecrated\n",
      "0  accessory.amulet            True   Exalted Orb  a4685a769479ddb2955ada907217e3dc5e068466707bf84861525574d9538f8c  Standard  poe2  2024-12-09T19:27:48Z      BatCg#0950  None                    1.0     Orb of Augmentation     ~price              1.333333            Exalted Orb            1.333333      True  Normal  Lunar Amulet                   Lunar Amulet                  38        True       True       False         False   Amulet       None           None    None          []                  []       []           None      None           None           []       None      []  [{\"name\": \"Amulet\", \"values\": [], \"displayMode\": 0}]  [{\"name\": \"Level\", \"values\": [[\"14\", 0]], \"displayMode\": 0, \"type\": 62}]             []             []                                                                                                                                                                                                                                                                                                                                                                                                                                                                                                                                                                                                                                                                                                                 {\"mods\": {\"implicit\": [{\"name\": \"\", \"tier\": \"\", \"level\": 18, \"magnitudes\": [{\"hash\": \"implicit.stat_3489782002\", \"min\": \"20\", \"max\": \"30\"}]}]}, \"hashes\": {\"implicit\": [[\"implicit.stat_3489782002\", [0]]]}}        []              []       [\"+25 to maximum [EnergyShield|Energy Shield]\"]                                                                                                                                                                       []          []       False\n",
      "1  accessory.amulet            True   Exalted Orb  7e8249f29786ec864b7ab6c7832829f849210ae1edd40789eda726703714569d  Standard  poe2  2025-03-02T04:58:54Z  distrohop#5315  None                    1.0     Orb of Augmentation     ~price              1.333333            Exalted Orb            1.333333      True    Rare  Lunar Amulet                   Lunar Amulet  Vortex Heart    81        True       True       False         False   Amulet       None           None    None          []                  []       []           None      None           None           []       None      []  [{\"name\": \"Amulet\", \"values\": [], \"displayMode\": 0}]  [{\"name\": \"Level\", \"values\": [[\"60\", 0]], \"displayMode\": 0, \"type\": 62}]             []             []  {\"mods\": {\"explicit\": [{\"name\": \"Consistent\", \"tier\": \"P4\", \"level\": 36, \"magnitudes\": [{\"hash\": \"explicit.stat_803737631\", \"min\": \"124\", \"max\": \"167\"}]}, {\"name\": \"Robust\", \"tier\": \"P4\", \"level\": 38, \"magnitudes\": [{\"hash\": \"explicit.stat_3299347043\", \"min\": \"70\", \"max\": \"84\"}]}, {\"name\": \"of Windfall\", \"tier\": \"S1\", \"level\": 75, \"magnitudes\": [{\"hash\": \"explicit.stat_3917489142\", \"min\": \"22\", \"max\": \"25\"}]}, {\"name\": \"Resolute\", \"tier\": \"P5\", \"level\": 33, \"magnitudes\": [{\"hash\": \"explicit.stat_2482852589\", \"min\": \"21\", \"max\": \"26\"}]}], \"implicit\": [{\"name\": \"\", \"tier\": \"\", \"level\": 18, \"magnitudes\": [{\"hash\": \"implicit.stat_3489782002\", \"min\": \"20\", \"max\": \"30\"}]}]}, \"hashes\": {\"explicit\": [[\"explicit.stat_803737631\", [0]], [\"explicit.stat_2482852589\", [3]], [\"explicit.stat_3299347043\", [1]], [\"explicit.stat_3917489142\", [2]]], \"implicit\": [[\"implicit.stat_3489782002\", [0]]]}}        []              []       [\"+22 to maximum [EnergyShield|Energy Shield]\"]  [\"+142 to [Accuracy|Accuracy] Rating\", \"22% increased maximum [EnergyShield|Energy Shield]\", \"+73 to maximum Life\", \"29% increased [ItemRarity|Rarity of Items] found\"]          []       False\n",
      "2  accessory.amulet            True   Exalted Orb  88500db5e09da33a6cd33d13f0d5f634ef94609cf33d552e00b2906eadb0858b  Standard  poe2  2025-01-27T18:30:30Z    Celicks#0554  None                    5.0    Orb of Transmutation     ~price              5.000000            Exalted Orb            1.000000      True  Normal   Jade Amulet                    Jade Amulet                  56        True       True       False         False   Amulet       None           None    None          []                  []       []           None      None           None           []       None      []  [{\"name\": \"Amulet\", \"values\": [], \"displayMode\": 0}]   [{\"name\": \"Level\", \"values\": [[\"8\", 0]], \"displayMode\": 0, \"type\": 62}]             []             []                                                                                                                                                                                                                                                                                                                                                                                                                                                                                                                                                                                                                                                                                                                 {\"mods\": {\"implicit\": [{\"name\": \"\", \"tier\": \"\", \"level\": 10, \"magnitudes\": [{\"hash\": \"implicit.stat_3261801346\", \"min\": \"10\", \"max\": \"15\"}]}]}, \"hashes\": {\"implicit\": [[\"implicit.stat_3261801346\", [0]]]}}        []              []                      [\"+15 to [Dexterity|Dexterity]\"]                                                                                                                                                                       []          []       False\n",
      "3  accessory.amulet            True   Exalted Orb  107eb00d13917157c0ae8d7093edefe0cfcbea69e75fd24b1761fe60c377ab68  Standard  poe2  2025-02-07T19:21:06Z   arktecht#4286  None                    5.0    Orb of Transmutation       ~b/o              5.000000            Exalted Orb            1.000000      True   Magic   Gold Amulet  Beryl Gold Amulet of Disaster                  39        True       True       False         False   Amulet       None           None    None          []                  []       []           None      None           None           []       None      []  [{\"name\": \"Amulet\", \"values\": [], \"displayMode\": 0}]  [{\"name\": \"Level\", \"values\": [[\"35\", 0]], \"displayMode\": 0, \"type\": 62}]             []             []                                                                                                                                                                                                                                                                                                                                               {\"mods\": {\"explicit\": [{\"name\": \"Beryl\", \"tier\": \"P13\", \"level\": 1, \"magnitudes\": [{\"hash\": \"explicit.stat_1050105434\", \"min\": \"10\", \"max\": \"14\"}]}, {\"name\": \"of Disaster\", \"tier\": \"S4\", \"level\": 30, \"magnitudes\": [{\"hash\": \"explicit.stat_587431675\", \"min\": \"20\", \"max\": \"24\"}]}], \"implicit\": [{\"name\": \"\", \"tier\": \"\", \"level\": 44, \"magnitudes\": [{\"hash\": \"implicit.stat_3917489142\", \"min\": \"12\", \"max\": \"20\"}]}]}, \"hashes\": {\"explicit\": [[\"explicit.stat_1050105434\", [0]], [\"explicit.stat_587431675\", [1]]], \"implicit\": [[\"implicit.stat_3917489142\", [0]]]}}        []              []  [\"17% increased [ItemRarity|Rarity of Items] found\"]                                                                                                  [\"+12 to maximum Mana\", \"24% increased [Critical|Critical Hit] Chance\"]          []       False\n",
      "4  accessory.amulet            True   Exalted Orb  6b7b7f1db6c9ef90ee7e4c9c86d03fab7d6ab971aa2fc66fe60184de7038fee1  Standard  poe2  2024-12-25T15:37:40Z  ruz3ponny#6708  None                    5.0    Orb of Transmutation     ~price              5.000000            Exalted Orb            1.000000      True  Normal  Amber Amulet                   Amber Amulet                  58        True       True       False         False   Amulet       None           None    None          []                  []       []           None      None           None           []       None      []  [{\"name\": \"Amulet\", \"values\": [], \"displayMode\": 0}]   [{\"name\": \"Level\", \"values\": [[\"8\", 0]], \"displayMode\": 0, \"type\": 62}]             []             []                                                                                                                                                                                                                                                                                                                                                                                                                                                                                                                                                                                                                                                                                                                 {\"mods\": {\"implicit\": [{\"name\": \"\", \"tier\": \"\", \"level\": 10, \"magnitudes\": [{\"hash\": \"implicit.stat_4080418644\", \"min\": \"10\", \"max\": \"15\"}]}]}, \"hashes\": {\"implicit\": [[\"implicit.stat_4080418644\", [0]]]}}        []              []                        [\"+13 to [Strength|Strength]\"]                                                                                                                                                                       []          []       False\n"
     ]
    }
   ],
   "source": [
    "from pathlib import Path\n",
    "import pandas as pd\n",
    "\n",
    "path = Path(\"training_data/poe2_20250901-010915_accessory_amulet_corrupted.parquet\")\n",
    "\n",
    "df = pd.read_parquet(path)\n",
    "\n",
    "# --- Make pandas show everything ---\n",
    "pd.set_option(\"display.max_rows\", None)       # show all rows\n",
    "pd.set_option(\"display.max_columns\", None)   # show all columns\n",
    "pd.set_option(\"display.max_colwidth\", None)  # don't truncate column text\n",
    "pd.set_option(\"display.expand_frame_repr\", False)  # don't wrap to multiple lines\n",
    "print(len(df))\n",
    "print(df.head())   # or df  # in Jupyter / IPython\n"
   ]
  },
  {
   "cell_type": "code",
   "execution_count": 6,
   "id": "d162990c",
   "metadata": {},
   "outputs": [
    {
     "data": {
      "text/html": [
       "<div>\n",
       "<style scoped>\n",
       "    .dataframe tbody tr th:only-of-type {\n",
       "        vertical-align: middle;\n",
       "    }\n",
       "\n",
       "    .dataframe tbody tr th {\n",
       "        vertical-align: top;\n",
       "    }\n",
       "\n",
       "    .dataframe thead th {\n",
       "        text-align: right;\n",
       "    }\n",
       "</style>\n",
       "<table border=\"1\" class=\"dataframe\">\n",
       "  <thead>\n",
       "    <tr style=\"text-align: right;\">\n",
       "      <th></th>\n",
       "      <th>label</th>\n",
       "      <th>bulk_corrupted</th>\n",
       "      <th>base_currency</th>\n",
       "      <th>id</th>\n",
       "      <th>league</th>\n",
       "      <th>realm</th>\n",
       "      <th>indexed</th>\n",
       "      <th>seller</th>\n",
       "      <th>fee</th>\n",
       "      <th>price_amount_original</th>\n",
       "      <th>price_currency_original</th>\n",
       "      <th>price_type</th>\n",
       "      <th>price_amount_in_base</th>\n",
       "      <th>price_currency_in_base</th>\n",
       "      <th>price_rate_to_base</th>\n",
       "      <th>verified</th>\n",
       "      <th>rarity</th>\n",
       "      <th>base_type</th>\n",
       "      <th>type_line</th>\n",
       "      <th>name</th>\n",
       "      <th>ilvl</th>\n",
       "      <th>identified</th>\n",
       "      <th>corrupted</th>\n",
       "      <th>duplicated</th>\n",
       "      <th>unmodifiable</th>\n",
       "      <th>category</th>\n",
       "      <th>stack_size</th>\n",
       "      <th>max_stack_size</th>\n",
       "      <th>support</th>\n",
       "      <th>gem_sockets</th>\n",
       "      <th>weapon_requirements</th>\n",
       "      <th>gem_tabs</th>\n",
       "      <th>gem_background</th>\n",
       "      <th>gem_skill</th>\n",
       "      <th>sec_descr_text</th>\n",
       "      <th>flavour_text</th>\n",
       "      <th>descr_text</th>\n",
       "      <th>sockets</th>\n",
       "      <th>properties</th>\n",
       "      <th>requirements</th>\n",
       "      <th>granted_skills</th>\n",
       "      <th>socketed_items</th>\n",
       "      <th>extended</th>\n",
       "      <th>rune_mods</th>\n",
       "      <th>desecrated_mods</th>\n",
       "      <th>implicit_mods</th>\n",
       "      <th>explicit_mods</th>\n",
       "      <th>veiled_mods</th>\n",
       "      <th>desecrated</th>\n",
       "    </tr>\n",
       "  </thead>\n",
       "  <tbody>\n",
       "  </tbody>\n",
       "</table>\n",
       "</div>"
      ],
      "text/plain": [
       "Empty DataFrame\n",
       "Columns: [label, bulk_corrupted, base_currency, id, league, realm, indexed, seller, fee, price_amount_original, price_currency_original, price_type, price_amount_in_base, price_currency_in_base, price_rate_to_base, verified, rarity, base_type, type_line, name, ilvl, identified, corrupted, duplicated, unmodifiable, category, stack_size, max_stack_size, support, gem_sockets, weapon_requirements, gem_tabs, gem_background, gem_skill, sec_descr_text, flavour_text, descr_text, sockets, properties, requirements, granted_skills, socketed_items, extended, rune_mods, desecrated_mods, implicit_mods, explicit_mods, veiled_mods, desecrated]\n",
       "Index: []"
      ]
     },
     "execution_count": 6,
     "metadata": {},
     "output_type": "execute_result"
    }
   ],
   "source": [
    "empty_props = df[df[\"properties\"].map(len) == 0]\n",
    "empty_props"
   ]
  },
  {
   "cell_type": "code",
   "execution_count": 6,
   "id": "9eafc215",
   "metadata": {},
   "outputs": [
    {
     "data": {
      "text/plain": [
       "array([ True])"
      ]
     },
     "execution_count": 6,
     "metadata": {},
     "output_type": "execute_result"
    }
   ],
   "source": [
    "# preprocess raw data into features\n",
    "# consider segmenting into waypoint, armour, weapon \n",
    "df.corrupted.unique()"
   ]
  },
  {
   "cell_type": "code",
   "execution_count": 7,
   "id": "95441de4",
   "metadata": {},
   "outputs": [
    {
     "name": "stdout",
     "output_type": "stream",
     "text": [
      "100\n",
      "           label  bulk_corrupted base_currency                                                                id    league realm               indexed              seller   fee  price_amount_original price_currency_original price_type  price_amount_in_base price_currency_in_base  price_rate_to_base  verified rarity             base_type             type_line               name  ilvl  identified  corrupted  duplicated  unmodifiable category stack_size max_stack_size support gem_sockets weapon_requirements gem_tabs gem_background gem_skill sec_descr_text flavour_text descr_text                         sockets                                                                                                                                                                                                                                                                                                          properties                                                                                                                                                                                                                                    requirements                                                                                                                                                                                                                                     granted_skills socketed_items                                                                                                                                                                                                                                                                                                                                                                                                                                                                                                                                                                                                                                                                                                                                                                                                                                                                                                                                                                                                                                                                                                                                                                                                                                                                                                               extended rune_mods desecrated_mods implicit_mods                                                                                                                                                                                                                                            explicit_mods veiled_mods  desecrated\n",
      "0  armour.shield            True   Exalted Orb  b6b09551913e4e2e19bdbdbca5668a0eef7ef535184db04be06f08540ee2cc4c  Standard  poe2  2025-01-25T07:22:10Z      Chrono111#5500  None                    1.0     Orb of Augmentation       ~b/o              1.333333            Exalted Orb            1.333333      True   Rare     Omen Crest Shield     Omen Crest Shield       Ghoul Refuge    38        True       True       False         False   Shield       None           None    None          []                  []       []           None      None           None           []       None                              []  [{\"name\": \"[Shield]\", \"values\": [], \"displayMode\": 0}, {\"name\": \"[Block] chance\", \"values\": [[\"25%\", 0]], \"displayMode\": 0, \"type\": 15}, {\"name\": \"[Armour]\", \"values\": [[\"61\", 1]], \"displayMode\": 0, \"type\": 16}, {\"name\": \"[EnergyShield|Energy Shield]\", \"values\": [[\"23\", 1]], \"displayMode\": 0, \"type\": 18}]  [{\"name\": \"Level\", \"values\": [[\"36\", 0]], \"displayMode\": 0, \"type\": 62}, {\"name\": \"[Strength|Str]\", \"values\": [[\"30\", 0]], \"displayMode\": 1, \"type\": 63}, {\"name\": \"[Intelligence|Int]\", \"values\": [[\"30\", 0]], \"displayMode\": 1, \"type\": 65}]  [{\"name\": \"Grants Skill\", \"values\": [[\"Raise Shield\", 25]], \"displayMode\": 0, \"icon\": \"https://web.poecdn.com/gen/image/WzIxLDE0LHsiayI6IjJEQXJ0L1NraWxsSWNvbnMvQnJ1dGVTaGllbGRCbG9jayIsInJlYWxtIjoicG9lMiJ9XQ/117cb43abb/BruteShieldBlock.png\"}]             []                                                                                                                                                                                                           {\"ar\": 73, \"ar_aug\": true, \"es\": 28, \"es_aug\": true, \"mods\": {\"explicit\": [{\"name\": \"Healthy\", \"tier\": \"P10\", \"level\": 6, \"magnitudes\": [{\"hash\": \"explicit.stat_3299347043\", \"min\": \"20\", \"max\": \"29\"}]}, {\"name\": \"Keeper's\", \"tier\": \"P4\", \"level\": 38, \"magnitudes\": [{\"hash\": \"explicit.stat_3321629045\", \"min\": \"21\", \"max\": \"26\"}, {\"hash\": \"explicit.stat_915769802\", \"min\": \"25\", \"max\": \"40\"}]}, {\"name\": \"of the Lion\", \"tier\": \"S5\", \"level\": 33, \"magnitudes\": [{\"hash\": \"explicit.stat_4080418644\", \"min\": \"17\", \"max\": \"20\"}]}, {\"name\": \"of the Cloud\", \"tier\": \"S8\", \"level\": 1, \"magnitudes\": [{\"hash\": \"explicit.stat_1671376347\", \"min\": \"6\", \"max\": \"10\"}]}, {\"name\": \"of Banishment\", \"tier\": \"S5\", \"level\": 30, \"magnitudes\": [{\"hash\": \"explicit.stat_2923486259\", \"min\": \"8\", \"max\": \"11\"}]}]}, \"hashes\": {\"explicit\": [[\"explicit.stat_3321629045\", [1]], [\"explicit.stat_3299347043\", [0]], [\"explicit.stat_4080418644\", [2]], [\"explicit.stat_1671376347\", [3]], [\"explicit.stat_2923486259\", [4]], [\"explicit.stat_915769802\", [1]]], \"skill\": [[\"skill.shield_block\", null]]}}        []              []            []  [\"21% increased [Armour|Armour] and [EnergyShield|Energy Shield]\", \"+23 to maximum Life\", \"+18 to [Strength|Strength]\", \"+6% to [Resistances|Lightning Resistance]\", \"+10% to [Resistances|Chaos Resistance]\", \"+38 to [StunThreshold|Stun Threshold]\"]          []       False\n",
      "1  armour.shield            True   Exalted Orb  35948723ab647161901606b7ff4b807f54200180a6ea2fe0ffec105ea424e7de  Standard  poe2  2024-12-31T03:41:29Z    Cyan0tic420#5029  None                    1.0     Orb of Augmentation     ~price              1.333333            Exalted Orb            1.333333      True   Rare        Chiseled Targe        Chiseled Targe       Mind Barrier    38        True       True       False         False   Shield       None           None    None          []                  []       []           None      None           None           []       None                              []      [{\"name\": \"[Shield]\", \"values\": [], \"displayMode\": 0}, {\"name\": \"[Block] chance\", \"values\": [[\"35%\", 1]], \"displayMode\": 0, \"type\": 15}, {\"name\": \"[Armour]\", \"values\": [[\"50\", 1]], \"displayMode\": 0, \"type\": 16}, {\"name\": \"[Evasion|Evasion Rating]\", \"values\": [[\"43\", 1]], \"displayMode\": 0, \"type\": 17}]     [{\"name\": \"Level\", \"values\": [[\"33\", 0]], \"displayMode\": 0, \"type\": 62}, {\"name\": \"[Strength|Str]\", \"values\": [[\"27\", 0]], \"displayMode\": 1, \"type\": 63}, {\"name\": \"[Dexterity|Dex]\", \"values\": [[\"27\", 0]], \"displayMode\": 1, \"type\": 64}]  [{\"name\": \"Grants Skill\", \"values\": [[\"Raise Shield\", 25]], \"displayMode\": 0, \"icon\": \"https://web.poecdn.com/gen/image/WzIxLDE0LHsiayI6IjJEQXJ0L1NraWxsSWNvbnMvQnJ1dGVTaGllbGRCbG9jayIsInJlYWxtIjoicG9lMiJ9XQ/117cb43abb/BruteShieldBlock.png\"}]             []  {\"ev\": 52, \"ev_aug\": true, \"ar\": 60, \"ar_aug\": true, \"mods\": {\"explicit\": [{\"name\": \"Captain's\", \"tier\": \"P6\", \"level\": 10, \"magnitudes\": [{\"hash\": \"explicit.stat_2451402625\", \"min\": \"6\", \"max\": \"13\"}, {\"hash\": \"explicit.stat_915769802\", \"min\": \"8\", \"max\": \"13\"}]}, {\"name\": \"Spiny\", \"tier\": \"P6\", \"level\": 10, \"magnitudes\": [{\"hash\": \"explicit.stat_2881298780\", \"min\": \"5\", \"max\": \"7\"}, {\"hash\": \"explicit.stat_2881298780\", \"min\": \"7\", \"max\": \"10\"}]}, {\"name\": \"Steadfast\", \"tier\": \"P3\", \"level\": 1, \"magnitudes\": [{\"hash\": \"explicit.stat_2481353198\", \"min\": \"15\", \"max\": \"19\"}]}, {\"name\": \"of the Storm\", \"tier\": \"S6\", \"level\": 25, \"magnitudes\": [{\"hash\": \"explicit.stat_1671376347\", \"min\": \"16\", \"max\": \"20\"}]}, {\"name\": \"of Thick Skin\", \"tier\": \"S10\", \"level\": 1, \"magnitudes\": [{\"hash\": \"explicit.stat_915769802\", \"min\": \"6\", \"max\": \"11\"}]}], \"enchant\": [{\"name\": \"\", \"tier\": \"\", \"level\": 1, \"magnitudes\": [{\"hash\": \"enchant.stat_2122183138\", \"min\": \"10\", \"max\": \"15\"}]}]}, \"hashes\": {\"explicit\": [[\"explicit.stat_2481353198\", [2]], [\"explicit.stat_2451402625\", [0]], [\"explicit.stat_1671376347\", [3]], [\"explicit.stat_915769802\", [0, 4]], [\"explicit.stat_2881298780\", [1]]], \"enchant\": [[\"enchant.stat_2122183138\", [0]]], \"skill\": [[\"skill.shield_block\", null]]}}        []              []            []                       [\"42% increased [Block] chance\", \"6% increased [Armour|Armour] and [Evasion|Evasion]\", \"+20% to [Resistances|Lightning Resistance]\", \"+20 to [StunThreshold|Stun Threshold]\", \"5 to 6 [Physical|Physical] [Thorns|Thorns] damage\"]          []       False\n",
      "2  armour.shield            True   Exalted Orb  14df88361a25b7ccc4d6a13733dffdb706250bfb278f156bbb97aef22b9c6697  Standard  poe2  2025-01-12T10:50:17Z       nolaneko#8769  None                    1.0     Orb of Augmentation     ~price              1.333333            Exalted Orb            1.333333      True   Rare        Chiseled Targe        Chiseled Targe      Kraken Emblem    39        True       True       False         False   Shield       None           None    None          []                  []       []           None      None           None           []       None  [{\"group\": 0, \"type\": \"rune\"}]      [{\"name\": \"[Shield]\", \"values\": [], \"displayMode\": 0}, {\"name\": \"[Block] chance\", \"values\": [[\"25%\", 0]], \"displayMode\": 0, \"type\": 15}, {\"name\": \"[Armour]\", \"values\": [[\"47\", 0]], \"displayMode\": 0, \"type\": 16}, {\"name\": \"[Evasion|Evasion Rating]\", \"values\": [[\"41\", 0]], \"displayMode\": 0, \"type\": 17}]     [{\"name\": \"Level\", \"values\": [[\"36\", 0]], \"displayMode\": 0, \"type\": 62}, {\"name\": \"[Strength|Str]\", \"values\": [[\"27\", 0]], \"displayMode\": 1, \"type\": 63}, {\"name\": \"[Dexterity|Dex]\", \"values\": [[\"27\", 0]], \"displayMode\": 1, \"type\": 64}]  [{\"name\": \"Grants Skill\", \"values\": [[\"Raise Shield\", 25]], \"displayMode\": 0, \"icon\": \"https://web.poecdn.com/gen/image/WzIxLDE0LHsiayI6IjJEQXJ0L1NraWxsSWNvbnMvQnJ1dGVTaGllbGRCbG9jayIsInJlYWxtIjoicG9lMiJ9XQ/117cb43abb/BruteShieldBlock.png\"}]             []                                                                                                                                                                                                                                                                                                                                                                                                                                                                                      {\"ev\": 49, \"ev_aug\": true, \"ar\": 56, \"ar_aug\": true, \"mods\": {\"explicit\": [{\"name\": \"Rotund\", \"tier\": \"P5\", \"level\": 46, \"magnitudes\": [{\"hash\": \"explicit.stat_3299347043\", \"min\": \"85\", \"max\": \"99\"}]}, {\"name\": \"of the Lost\", \"tier\": \"S6\", \"level\": 16, \"magnitudes\": [{\"hash\": \"explicit.stat_2923486259\", \"min\": \"4\", \"max\": \"7\"}]}, {\"name\": \"of the Seal\", \"tier\": \"S8\", \"level\": 1, \"magnitudes\": [{\"hash\": \"explicit.stat_4220027924\", \"min\": \"6\", \"max\": \"10\"}]}, {\"name\": \"of Iron Skin\", \"tier\": \"S7\", \"level\": 22, \"magnitudes\": [{\"hash\": \"explicit.stat_915769802\", \"min\": \"50\", \"max\": \"72\"}]}]}, \"hashes\": {\"explicit\": [[\"explicit.stat_3299347043\", [0]], [\"explicit.stat_4220027924\", [2]], [\"explicit.stat_2923486259\", [1]], [\"explicit.stat_915769802\", [3]]], \"skill\": [[\"skill.shield_block\", null]]}}        []              []            []                                                                                                        [\"+86 to maximum Life\", \"+9% to [Resistances|Cold Resistance]\", \"+7% to [Resistances|Chaos Resistance]\", \"+55 to [StunThreshold|Stun Threshold]\"]          []       False\n",
      "3  armour.shield            True   Exalted Orb  08e914a7b28b77bafe6a139d889c2a481d0563ae9382f4f4259878c48ced99de  Standard  poe2  2024-12-17T12:09:46Z  ElCaptainKirk#1892  None                    1.0     Orb of Augmentation     ~price              1.333333            Exalted Orb            1.333333      True   Rare  Rampart Tower Shield  Rampart Tower Shield         Glyph Fend    38        True       True       False         False   Shield       None           None    None          []                  []       []           None      None           None           []       None                              []                                                                                                 [{\"name\": \"[Shield]\", \"values\": [], \"displayMode\": 0}, {\"name\": \"[Block] chance\", \"values\": [[\"26%\", 0]], \"displayMode\": 0, \"type\": 15}, {\"name\": \"[Armour]\", \"values\": [[\"75\", 0]], \"displayMode\": 0, \"type\": 16}]                                                                                       [{\"name\": \"Level\", \"values\": [[\"28\", 0]], \"displayMode\": 0, \"type\": 62}, {\"name\": \"[Strength|Str]\", \"values\": [[\"35\", 1]], \"displayMode\": 1, \"type\": 63}]  [{\"name\": \"Grants Skill\", \"values\": [[\"Raise Shield\", 25]], \"displayMode\": 0, \"icon\": \"https://web.poecdn.com/gen/image/WzIxLDE0LHsiayI6IjJEQXJ0L1NraWxsSWNvbnMvQnJ1dGVTaGllbGRCbG9jayIsInJlYWxtIjoicG9lMiJ9XQ/117cb43abb/BruteShieldBlock.png\"}]             []                                                                                                                                                                                                                                                                                                                                                                                                                                              {\"ar\": 90, \"ar_aug\": true, \"mods\": {\"explicit\": [{\"name\": \"of the Kiln\", \"tier\": \"S5\", \"level\": 36, \"magnitudes\": [{\"hash\": \"explicit.stat_3372524247\", \"min\": \"21\", \"max\": \"25\"}]}, {\"name\": \"Stalwart\", \"tier\": \"P8\", \"level\": 24, \"magnitudes\": [{\"hash\": \"explicit.stat_3299347043\", \"min\": \"40\", \"max\": \"59\"}]}, {\"name\": \"of the Worthy\", \"tier\": \"S5\", \"level\": 24, \"magnitudes\": [{\"hash\": \"explicit.stat_3639275092\", \"min\": \"-15\", \"max\": \"-15\"}]}, {\"name\": \"Spiny\", \"tier\": \"P6\", \"level\": 10, \"magnitudes\": [{\"hash\": \"explicit.stat_2881298780\", \"min\": \"5\", \"max\": \"7\"}, {\"hash\": \"explicit.stat_2881298780\", \"min\": \"7\", \"max\": \"10\"}]}]}, \"hashes\": {\"explicit\": [[\"explicit.stat_3299347043\", [1]], [\"explicit.stat_3639275092\", [2]], [\"explicit.stat_3372524247\", [0]], [\"explicit.stat_2881298780\", [3]]], \"skill\": [[\"skill.shield_block\", null]]}}        []              []            []                                                                                 [\"+51 to maximum Life\", \"15% reduced [Attributes|Attribute] Requirements\", \"+24% to [Resistances|Fire Resistance]\", \"5 to 7 [Physical|Physical] [Thorns|Thorns] damage\"]          []       False\n",
      "4  armour.shield            True   Exalted Orb  e09ee79638a187713a91f98dc9e9d5b47dc69df49f17a4c8e3302faa7654727f  Standard  poe2  2025-02-16T14:37:44Z      wen184800#3172  None                    1.0     Orb of Augmentation       ~b/o              1.333333            Exalted Orb            1.333333      True   Rare        Crescent Targe        Crescent Targe  Damnation Barrier    38        True       True       False         False   Shield       None           None    None          []                  []       []           None      None           None           []       None                              []      [{\"name\": \"[Shield]\", \"values\": [], \"displayMode\": 0}, {\"name\": \"[Block] chance\", \"values\": [[\"37%\", 1]], \"displayMode\": 0, \"type\": 15}, {\"name\": \"[Armour]\", \"values\": [[\"53\", 1]], \"displayMode\": 0, \"type\": 16}, {\"name\": \"[Evasion|Evasion Rating]\", \"values\": [[\"41\", 1]], \"displayMode\": 0, \"type\": 17}]     [{\"name\": \"Level\", \"values\": [[\"36\", 0]], \"displayMode\": 0, \"type\": 62}, {\"name\": \"[Strength|Str]\", \"values\": [[\"22\", 0]], \"displayMode\": 1, \"type\": 63}, {\"name\": \"[Dexterity|Dex]\", \"values\": [[\"22\", 0]], \"displayMode\": 1, \"type\": 64}]  [{\"name\": \"Grants Skill\", \"values\": [[\"Raise Shield\", 25]], \"displayMode\": 0, \"icon\": \"https://web.poecdn.com/gen/image/WzIxLDE0LHsiayI6IjJEQXJ0L1NraWxsSWNvbnMvQnJ1dGVTaGllbGRCbG9jayIsInJlYWxtIjoicG9lMiJ9XQ/117cb43abb/BruteShieldBlock.png\"}]             []                                                                                                                                                                                                           {\"ev\": 49, \"ev_aug\": true, \"ar\": 64, \"ar_aug\": true, \"mods\": {\"explicit\": [{\"name\": \"of the Storm\", \"tier\": \"S6\", \"level\": 25, \"magnitudes\": [{\"hash\": \"explicit.stat_1671376347\", \"min\": \"16\", \"max\": \"20\"}]}, {\"name\": \"Supple\", \"tier\": \"P7\", \"level\": 1, \"magnitudes\": [{\"hash\": \"explicit.stat_3484657501\", \"min\": \"8\", \"max\": \"14\"}, {\"hash\": \"explicit.stat_53045048\", \"min\": \"6\", \"max\": \"9\"}]}, {\"name\": \"Rotund\", \"tier\": \"P5\", \"level\": 46, \"magnitudes\": [{\"hash\": \"explicit.stat_3299347043\", \"min\": \"85\", \"max\": \"99\"}]}, {\"name\": \"Unrelenting\", \"tier\": \"P2\", \"level\": 33, \"magnitudes\": [{\"hash\": \"explicit.stat_2481353198\", \"min\": \"20\", \"max\": \"24\"}]}], \"enchant\": [{\"name\": \"\", \"tier\": \"\", \"level\": 1, \"magnitudes\": [{\"hash\": \"enchant.stat_762600725\", \"min\": \"20\", \"max\": \"25\"}]}]}, \"hashes\": {\"explicit\": [[\"explicit.stat_2481353198\", [3]], [\"explicit.stat_3484657501\", [1]], [\"explicit.stat_53045048\", [1]], [\"explicit.stat_3299347043\", [2]], [\"explicit.stat_1671376347\", [0]]], \"enchant\": [[\"enchant.stat_762600725\", [0]]], \"skill\": [[\"skill.shield_block\", null]]}}        []              []            []                                                                                                [\"48% increased [Block] chance\", \"+14 to [Armour|Armour]\", \"+7 to [Evasion] Rating\", \"+96 to maximum Life\", \"+17% to [Resistances|Lightning Resistance]\"]          []       False\n"
     ]
    }
   ],
   "source": [
    "path = Path(\"training_data/poe2_20250901-010915_armour_shield_corrupted.parquet\")\n",
    "\n",
    "df = pd.read_parquet(path)\n",
    "\n",
    "# --- Make pandas show everything ---\n",
    "pd.set_option(\"display.max_rows\", None)       # show all rows\n",
    "pd.set_option(\"display.max_columns\", None)   # show all columns\n",
    "pd.set_option(\"display.max_colwidth\", None)  # don't truncate column text\n",
    "pd.set_option(\"display.expand_frame_repr\", False)  # don't wrap to multiple lines\n",
    "print(len(df))\n",
    "print(df.head())   # or df  # in Jupyter / IPython"
   ]
  },
  {
   "cell_type": "code",
   "execution_count": 2,
   "id": "7cc588b5",
   "metadata": {},
   "outputs": [
    {
     "ename": "NameError",
     "evalue": "name 'Path' is not defined",
     "output_type": "error",
     "traceback": [
      "\u001b[31m---------------------------------------------------------------------------\u001b[39m",
      "\u001b[31mNameError\u001b[39m                                 Traceback (most recent call last)",
      "\u001b[36mCell\u001b[39m\u001b[36m \u001b[39m\u001b[32mIn[2]\u001b[39m\u001b[32m, line 1\u001b[39m\n\u001b[32m----> \u001b[39m\u001b[32m1\u001b[39m path = \u001b[43mPath\u001b[49m(\u001b[33m\"\u001b[39m\u001b[33mtraining_data/poe2_20250901-010915_weapon_sceptre_corrupted.parquet\u001b[39m\u001b[33m\"\u001b[39m)\n\u001b[32m      3\u001b[39m df = pd.read_parquet(path)\n\u001b[32m      5\u001b[39m \u001b[38;5;66;03m# --- Make pandas show everything ---\u001b[39;00m\n",
      "\u001b[31mNameError\u001b[39m: name 'Path' is not defined"
     ]
    }
   ],
   "source": [
    "path = Path(\"training_data/poe2_20250901-010915_weapon_sceptre_corrupted.parquet\")\n",
    "\n",
    "df = pd.read_parquet(path)\n",
    "\n",
    "# --- Make pandas show everything ---\n",
    "pd.set_option(\"display.max_rows\", None)       # show all rows\n",
    "pd.set_option(\"display.max_columns\", None)   # show all columns\n",
    "pd.set_option(\"display.max_colwidth\", None)  # don't truncate column text\n",
    "pd.set_option(\"display.expand_frame_repr\", False)  # don't wrap to multiple lines\n",
    "print(len(df))\n",
    "print(df.head())   # or df  # in Jupyter / IPython"
   ]
  },
  {
   "cell_type": "code",
   "execution_count": 5,
   "id": "1fba72b2",
   "metadata": {},
   "outputs": [
    {
     "data": {
      "text/plain": [
       "array(['Normal', 'Rare', 'Magic', 'Unique'], dtype=object)"
      ]
     },
     "execution_count": 5,
     "metadata": {},
     "output_type": "execute_result"
    }
   ],
   "source": [
    "df.rarity.unique()"
   ]
  }
 ],
 "metadata": {
  "kernelspec": {
   "display_name": ".venv",
   "language": "python",
   "name": "python3"
  },
  "language_info": {
   "codemirror_mode": {
    "name": "ipython",
    "version": 3
   },
   "file_extension": ".py",
   "mimetype": "text/x-python",
   "name": "python",
   "nbconvert_exporter": "python",
   "pygments_lexer": "ipython3",
   "version": "3.13.7"
  }
 },
 "nbformat": 4,
 "nbformat_minor": 5
}
