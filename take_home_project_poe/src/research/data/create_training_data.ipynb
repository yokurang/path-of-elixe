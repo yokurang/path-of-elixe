{
 "cells": [
  {
   "cell_type": "code",
   "execution_count": 1,
   "id": "4640788b",
   "metadata": {},
   "outputs": [],
   "source": [
    "import sys, os\n",
    "project_root = os.path.abspath(os.path.join(os.getcwd(), \"../../..\"))\n",
    "sys.path.insert(0, project_root)\n",
    "from src.data.market_item_listener import search_to_dataframe"
   ]
  },
  {
   "cell_type": "code",
   "execution_count": 2,
   "id": "a61ad5b6",
   "metadata": {},
   "outputs": [
    {
     "name": "stdout",
     "output_type": "stream",
     "text": [
      "CWD: /Users/yokurang/Documents/Recruiting/AlphaGrep/path-of-elix/take_home_project_poe/src/research/data\n",
      "sys.path:\n",
      "    /Users/yokurang/Documents/Recruiting/AlphaGrep/path-of-elix/take_home_project_poe\n",
      "    /opt/homebrew/Cellar/python@3.13/3.13.7/Frameworks/Python.framework/Versions/3.13/lib/python313.zip\n",
      "    /opt/homebrew/Cellar/python@3.13/3.13.7/Frameworks/Python.framework/Versions/3.13/lib/python3.13\n",
      "    /opt/homebrew/Cellar/python@3.13/3.13.7/Frameworks/Python.framework/Versions/3.13/lib/python3.13/lib-dynload\n",
      "    \n",
      "    /Users/yokurang/Documents/Recruiting/AlphaGrep/path-of-elix/take_home_project_poe/.venv/lib/python3.13/site-packages\n"
     ]
    }
   ],
   "source": [
    "# debugging ModuleNotFound errors\n",
    "print(\"CWD:\", os.getcwd())\n",
    "\n",
    "print(\"sys.path:\")\n",
    "for p in sys.path:\n",
    "    print(\"   \", p)"
   ]
  },
  {
   "cell_type": "code",
   "execution_count": 3,
   "id": "6482ed3c",
   "metadata": {},
   "outputs": [
    {
     "name": "stdout",
     "output_type": "stream",
     "text": [
      "Note: you may need to restart the kernel to use updated packages.\n"
     ]
    }
   ],
   "source": [
    "# In a cell before calling search_to_dataframe:\n",
    "%pip install -q nest_asyncio\n",
    "import nest_asyncio; nest_asyncio.apply()"
   ]
  },
  {
   "cell_type": "code",
   "execution_count": 4,
   "id": "21b79737",
   "metadata": {},
   "outputs": [
    {
     "name": "stderr",
     "output_type": "stream",
     "text": [
      "22:42:05 | INFO | root | Logging initialized; file=logs/log_2025-08-31-22-42.txt\n",
      "22:42:05 | INFO | poe.trade2.search | Loading config from /Users/yokurang/Documents/Recruiting/AlphaGrep/path-of-elix/take_home_project_poe/config.yaml\n",
      "22:42:05 | INFO | poe.trade2.search | Config loaded (masked): {\"base_currency\": \"Exalted Orb\", \"base_server\": \"Standard\", \"cf_clearance\": \"A9aiTB9Fp6vtOSkS3H.ZAW7qMkD4xBCCMX06CE0lWLY-1756572188-1.2.1.1-qvYp6iSz44RhXfFLompMb5WvVp.jYSbbM8nDtTeBa5RStP4PBdCvgV_laRjjucr5sVYdjdab9.ra4EEPxDIGgMERSIFNrk9x.RgNE.pusAeuaApLJ11hGtYQvzGVCGYkIxrI1RkCL0TElWr9.I9UDds4HPUzk2blgspTWwYJARh.WjXxQVX_1kMG8j.nROHbgmKTm3jekV59Ggua5KMZhQ271JjaqU9HZeFj6B2lAkg\", \"concurrency\": 2, \"filters\": {\"misc_filters\": {\"disabled\": false, \"filters\": {\"corrupted\": {\"option\": \"true\"}}}, \"trade_filters\": {\"disabled\": false, \"filters\": {\"price\": {\"option\": \"aug\"}}}, \"type_filters\": {\"disabled\": false, \"filters\": {\"category\": {\"option\": \"weapon.wand\"}}}}, \"league\": \"Rise of the Abyssal\", \"max_retries\": 5, \"num_workers\": 6, \"poe_sessid\": \"02e07d1543f1443aec3473e200db08c6\", \"post_request_pause\": 1.0, \"realm\": \"poe2\", \"rps\": 1.0, \"sort\": {\"price\": \"asc\"}, \"stats\": [{\"disabled\": true, \"filters\": [{\"disabled\": false, \"id\": \"explicit.stat_691932474\"}, {\"disabled\": false, \"id\": \"explicit.stat_328541901\"}], \"type\": \"and\"}], \"status\": {\"option\": \"any\"}, \"timeout\": 30}\n",
      "22:42:05 | INFO | poe.trade2.search | Resolved options: {\"base_currency\": \"Exalted Orb\", \"base_server\": \"Standard\", \"league\": \"Rise of the Abyssal\", \"max_retries\": 5, \"post_request_pause\": 1.0, \"realm\": \"poe2\", \"timeout\": 30}\n",
      "22:42:05 | INFO | poe.trade2.search | Building headers from config (cookies masked in logs)\n",
      "22:42:05 | INFO | poe.trade2.search | Cookie present: POESESSID=02e07d1543f1443aec3473e200db08c6, cf_clearance=A9aiTB9Fp6vtOSkS3H.ZAW7qMkD4xBCCMX06CE0lWLY-1756572188-1.2.1.1-qvYp6iSz44RhXfFLompMb5WvVp.jYSbbM8nDtTeBa5RStP4PBdCvgV_laRjjucr5sVYdjdab9.ra4EEPxDIGgMERSIFNrk9x.RgNE.pusAeuaApLJ11hGtYQvzGVCGYkIxrI1RkCL0TElWr9.I9UDds4HPUzk2blgspTWwYJARh.WjXxQVX_1kMG8j.nROHbgmKTm3jekV59Ggua5KMZhQ271JjaqU9HZeFj6B2lAkg\n",
      "22:42:05 | INFO | poe.trade2.search | Constructing search payload from config\n",
      "22:42:05 | INFO | poe.trade2.search | Payload summary: status={'option': 'any'} sort={'price': 'asc'} stats_blocks=1 has_type_filters=True\n",
      "22:42:05 | INFO | poe.trade2.search | Building currency cache for server=Standard (base=Exalted Orb)\n",
      "22:42:05 | INFO | root | Logging initialized; file=logs/log_2025-08-31-22-42.txt\n",
      "22:42:05 | INFO | poe.currency.listener | Fetching currency tables for servers=['Standard']\n",
      "22:42:06 | INFO | poe.currency.listener | Server=Standard parsed 22 column headers: ['Mirror of Kalandra', 'Divine Orb(20+1 Free)', 'Exalted Orb(1000+100 Free)', 'Divine Orb', \"Perfect Jeweller's Orb\", 'Orb of Annulment', 'Chaos Orb', 'Orb of Chance']\n",
      "22:42:06 | INFO | poe.currency.listener | Server=Standard built 484 directed pair entries\n",
      "22:42:06 | INFO | poe.currency.listener | Server=Standard stored pair entries=484\n",
      "22:42:06 | INFO | poe.currency.listener | Cache built; total pair entries=484\n",
      "22:42:06 | INFO | poe.trade2.search | Initializing aiohttp session with total timeout=30s\n",
      "22:42:06 | INFO | poe.trade2.search | Starting search workflow\n",
      "22:42:06 | INFO | poe.trade2.search | Preparing search; realm=poe2, league=Rise of the Abyssal\n",
      "22:42:06 | INFO | poe.trade2.search | Posting search to https://www.pathofexile.com/api/trade2/search/poe2/Rise%20of%20the%20Abyssal\n",
      "22:42:06 | INFO | poe.trade2.search | POST https://www.pathofexile.com/api/trade2/search/poe2/Rise%20of%20the%20Abyssal (attempt 1)\n",
      "22:42:07 | INFO | poe.trade2.search | HTTP status=200, X-RateLimit-Remaining=None, X-RateLimit-Used=None\n",
      "22:42:08 | INFO | poe.trade2.search | Parsed search outcome: search_id=jploQ8buX ids=1 total=1 complexity=9 truncated=False\n",
      "22:42:08 | INFO | poe.trade2.search | Search OK: ids=1 total=1 complexity=9 truncated=False search_id=jploQ8buX\n",
      "22:42:08 | INFO | poe.trade | [id=1245de7206cb06826b6803fe1dca4cd5be55210d75fba1656423a4d55c9f736f 1/1] GET https://www.pathofexile.com/api/trade2/fetch/1245de7206cb06826b6803fe1dca4cd5be55210d75fba1656423a4d55c9f736f?query=jploQ8buX (attempt 1)\n",
      "22:42:08 | INFO | poe.trade | [id=1245de7206cb06826b6803fe1dca4cd5be55210d75fba1656423a4d55c9f736f] HTTP status=200, X-RateLimit-Remaining=None, X-RateLimit-Used=None, Retry-After=None\n",
      "22:42:09 | INFO | poe.currency.listener | Lookup direct: Orb of Augmentation -> Exalted Orb = 1.333333 (Standard)\n",
      "22:42:09 | INFO | poe.trade | [id=1245de7206cb06826b6803fe1dca4cd5be55210d75fba1656423a4d55c9f736f] SUCCESS: seller=goodtimesalan#4969 price_raw=1.0 Orb of Augmentation price_base=1.3333333333333333 Exalted Orb name=Horror Weaver base=Attuned Wand ilvl=30\n",
      "22:42:09 | INFO | poe.trade | Parsed 1/1 listings successfully\n",
      "22:42:09 | INFO | poe.trade | Fetched 1/1 listings (search_id=jploQ8buX)\n",
      "22:42:09 | INFO | poe.trade | Converting 1 records into DataFrame\n",
      "22:42:09 | INFO | poe.trade | DataFrame created with shape (1, 46)\n",
      "22:42:09 | INFO | poe.trade | Saved CSV -> /Users/yokurang/Documents/Recruiting/AlphaGrep/path-of-elix/take_home_project_poe/misc/results.csv\n",
      "22:42:09 | INFO | poe.trade | search_to_dataframe complete\n"
     ]
    }
   ],
   "source": [
    "from pathlib import Path\n",
    "project_root = Path.cwd().parents[2] # .../take_home_project_poe\n",
    "cfg = project_root / \"config.yaml\"\n",
    "out_csv = project_root / \"misc\" / \"results.csv\" \n",
    "\n",
    "df = search_to_dataframe(str(cfg), save_csv=str(out_csv), log_level=\"INFO\")\n"
   ]
  },
  {
   "cell_type": "code",
   "execution_count": 5,
   "id": "4af06640",
   "metadata": {},
   "outputs": [
    {
     "data": {
      "text/html": [
       "<div>\n",
       "<style scoped>\n",
       "    .dataframe tbody tr th:only-of-type {\n",
       "        vertical-align: middle;\n",
       "    }\n",
       "\n",
       "    .dataframe tbody tr th {\n",
       "        vertical-align: top;\n",
       "    }\n",
       "\n",
       "    .dataframe thead th {\n",
       "        text-align: right;\n",
       "    }\n",
       "</style>\n",
       "<table border=\"1\" class=\"dataframe\">\n",
       "  <thead>\n",
       "    <tr style=\"text-align: right;\">\n",
       "      <th></th>\n",
       "      <th>id</th>\n",
       "      <th>league</th>\n",
       "      <th>realm</th>\n",
       "      <th>indexed</th>\n",
       "      <th>seller</th>\n",
       "      <th>fee</th>\n",
       "      <th>price_amount_original</th>\n",
       "      <th>price_currency_original</th>\n",
       "      <th>price_type</th>\n",
       "      <th>price_amount_in_base</th>\n",
       "      <th>price_currency_in_base</th>\n",
       "      <th>price_rate_to_base</th>\n",
       "      <th>verified</th>\n",
       "      <th>rarity</th>\n",
       "      <th>base_type</th>\n",
       "      <th>type_line</th>\n",
       "      <th>name</th>\n",
       "      <th>ilvl</th>\n",
       "      <th>identified</th>\n",
       "      <th>corrupted</th>\n",
       "      <th>duplicated</th>\n",
       "      <th>unmodifiable</th>\n",
       "      <th>category</th>\n",
       "      <th>stack_size</th>\n",
       "      <th>max_stack_size</th>\n",
       "      <th>support</th>\n",
       "      <th>gem_sockets</th>\n",
       "      <th>weapon_requirements</th>\n",
       "      <th>gem_tabs</th>\n",
       "      <th>gem_background</th>\n",
       "      <th>gem_skill</th>\n",
       "      <th>sec_descr_text</th>\n",
       "      <th>flavour_text</th>\n",
       "      <th>descr_text</th>\n",
       "      <th>sockets</th>\n",
       "      <th>properties</th>\n",
       "      <th>requirements</th>\n",
       "      <th>granted_skills</th>\n",
       "      <th>socketed_items</th>\n",
       "      <th>extended</th>\n",
       "      <th>rune_mods</th>\n",
       "      <th>desecrated_mods</th>\n",
       "      <th>implicit_mods</th>\n",
       "      <th>explicit_mods</th>\n",
       "      <th>veiled_mods</th>\n",
       "      <th>desecrated</th>\n",
       "    </tr>\n",
       "  </thead>\n",
       "  <tbody>\n",
       "    <tr>\n",
       "      <th>0</th>\n",
       "      <td>1245de7206cb06826b6803fe1dca4cd5be55210d75fba1...</td>\n",
       "      <td>Rise of the Abyssal</td>\n",
       "      <td>poe2</td>\n",
       "      <td>2025-08-31T10:17:10Z</td>\n",
       "      <td>goodtimesalan#4969</td>\n",
       "      <td>3169</td>\n",
       "      <td>1.0</td>\n",
       "      <td>Orb of Augmentation</td>\n",
       "      <td>~b/o</td>\n",
       "      <td>1.333333</td>\n",
       "      <td>Exalted Orb</td>\n",
       "      <td>1.333333</td>\n",
       "      <td>True</td>\n",
       "      <td>Rare</td>\n",
       "      <td>Attuned Wand</td>\n",
       "      <td>Attuned Wand</td>\n",
       "      <td>Horror Weaver</td>\n",
       "      <td>30</td>\n",
       "      <td>True</td>\n",
       "      <td>True</td>\n",
       "      <td>False</td>\n",
       "      <td>False</td>\n",
       "      <td>Wand</td>\n",
       "      <td>None</td>\n",
       "      <td>None</td>\n",
       "      <td>None</td>\n",
       "      <td>[]</td>\n",
       "      <td>[]</td>\n",
       "      <td>[]</td>\n",
       "      <td>None</td>\n",
       "      <td>None</td>\n",
       "      <td>None</td>\n",
       "      <td>[]</td>\n",
       "      <td>None</td>\n",
       "      <td>[]</td>\n",
       "      <td>[{\"name\": \"[Wand]\", \"values\": [], \"displayMode...</td>\n",
       "      <td>[{\"name\": \"Level\", \"values\": [[\"26\", 0]], \"dis...</td>\n",
       "      <td>[{\"name\": \"Grants Skill\", \"values\": [[\"Level 8...</td>\n",
       "      <td>[]</td>\n",
       "      <td>{\"mods\": {\"explicit\": [{\"name\": \"Tainted\", \"ti...</td>\n",
       "      <td>[]</td>\n",
       "      <td>[]</td>\n",
       "      <td>[]</td>\n",
       "      <td>[\"44% increased [Chaos] Damage\", \"+1 to Level ...</td>\n",
       "      <td>[]</td>\n",
       "      <td>False</td>\n",
       "    </tr>\n",
       "  </tbody>\n",
       "</table>\n",
       "</div>"
      ],
      "text/plain": [
       "                                                  id               league  \\\n",
       "0  1245de7206cb06826b6803fe1dca4cd5be55210d75fba1...  Rise of the Abyssal   \n",
       "\n",
       "  realm               indexed              seller   fee  \\\n",
       "0  poe2  2025-08-31T10:17:10Z  goodtimesalan#4969  3169   \n",
       "\n",
       "   price_amount_original price_currency_original price_type  \\\n",
       "0                    1.0     Orb of Augmentation       ~b/o   \n",
       "\n",
       "   price_amount_in_base price_currency_in_base  price_rate_to_base  verified  \\\n",
       "0              1.333333            Exalted Orb            1.333333      True   \n",
       "\n",
       "  rarity     base_type     type_line           name  ilvl  identified  \\\n",
       "0   Rare  Attuned Wand  Attuned Wand  Horror Weaver    30        True   \n",
       "\n",
       "   corrupted  duplicated  unmodifiable category stack_size max_stack_size  \\\n",
       "0       True       False         False     Wand       None           None   \n",
       "\n",
       "  support gem_sockets weapon_requirements gem_tabs gem_background gem_skill  \\\n",
       "0    None          []                  []       []           None      None   \n",
       "\n",
       "  sec_descr_text flavour_text descr_text sockets  \\\n",
       "0           None           []       None      []   \n",
       "\n",
       "                                          properties  \\\n",
       "0  [{\"name\": \"[Wand]\", \"values\": [], \"displayMode...   \n",
       "\n",
       "                                        requirements  \\\n",
       "0  [{\"name\": \"Level\", \"values\": [[\"26\", 0]], \"dis...   \n",
       "\n",
       "                                      granted_skills socketed_items  \\\n",
       "0  [{\"name\": \"Grants Skill\", \"values\": [[\"Level 8...             []   \n",
       "\n",
       "                                            extended rune_mods  \\\n",
       "0  {\"mods\": {\"explicit\": [{\"name\": \"Tainted\", \"ti...        []   \n",
       "\n",
       "  desecrated_mods implicit_mods  \\\n",
       "0              []            []   \n",
       "\n",
       "                                       explicit_mods veiled_mods  desecrated  \n",
       "0  [\"44% increased [Chaos] Damage\", \"+1 to Level ...          []       False  "
      ]
     },
     "execution_count": 5,
     "metadata": {},
     "output_type": "execute_result"
    }
   ],
   "source": [
    "import pandas as pd\n",
    "pd.set_option(\"display.max_columns\", None)\n",
    "pd.set_option(\"display.width\", None)\n",
    "\n",
    "df\n"
   ]
  },
  {
   "cell_type": "code",
   "execution_count": 6,
   "id": "9eafc215",
   "metadata": {},
   "outputs": [
    {
     "data": {
      "text/plain": [
       "array([ True])"
      ]
     },
     "execution_count": 6,
     "metadata": {},
     "output_type": "execute_result"
    }
   ],
   "source": [
    "# preprocess raw data into features\n",
    "# consider segmenting into waypoint, armour, weapon \n",
    "df.corrupted.unique()"
   ]
  },
  {
   "cell_type": "code",
   "execution_count": 4,
   "id": "95441de4",
   "metadata": {},
   "outputs": [
    {
     "name": "stdout",
     "output_type": "stream",
     "text": [
      "shape: (100, 49)\n",
      "columns: ['label', 'bulk_corrupted', 'base_currency', 'id', 'league', 'realm', 'indexed', 'seller', 'fee', 'price_amount_original', 'price_currency_original', 'price_type', 'price_amount_in_base', 'price_currency_in_base', 'price_rate_to_base', 'verified', 'rarity', 'base_type', 'type_line', 'name'] ...\n",
      "0     Orb of Augmentation\n",
      "1     Orb of Augmentation\n",
      "2    Orb of Transmutation\n",
      "Name: price_currency_original, dtype: object\n"
     ]
    }
   ],
   "source": [
    "from pathlib import Path\n",
    "import pandas as pd\n",
    "\n",
    "path = Path(\"training_data/poe2_20250901-010915_accessory_amulet_corrupted.parquet\")\n",
    "\n",
    "# Fast fail if file missing\n",
    "assert path.exists(), f\"File not found: {path}\"\n",
    "\n",
    "# Load (pyarrow is the default engine if installed)\n",
    "df = pd.read_parquet(path)\n",
    "\n",
    "print(\"shape:\", df.shape)\n",
    "print(\"columns:\", list(df.columns)[:20], \"...\")\n",
    "print(df.price_currency_original.head(3))\n"
   ]
  }
 ],
 "metadata": {
  "kernelspec": {
   "display_name": ".venv",
   "language": "python",
   "name": "python3"
  },
  "language_info": {
   "codemirror_mode": {
    "name": "ipython",
    "version": 3
   },
   "file_extension": ".py",
   "mimetype": "text/x-python",
   "name": "python",
   "nbconvert_exporter": "python",
   "pygments_lexer": "ipython3",
   "version": "3.13.7"
  }
 },
 "nbformat": 4,
 "nbformat_minor": 5
}
