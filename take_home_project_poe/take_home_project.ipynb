{
 "cells": [
  {
   "cell_type": "markdown",
   "id": "ef878da6",
   "metadata": {},
   "source": [
    "# Path of Exile Trade\n",
    "\n",
    "Path of exile 2 (POE2) is a multi-player game with a open marketplace where players can trade equipment with each other.\n",
    "\n",
    "Just like the real world, these equipment are traded in different currencies, but rather than USD, SGD, EUR, etc, the game instead has currencies that look like the following:\n",
    "1. DIVINE ORBS\n",
    "2. EXLATED ORBS\n",
    "3. CHAOS ORBS\n",
    "4. etc.\n",
    "\n",
    "![different_currencies](images/different_currencies.png)\n",
    "\n",
    "Next, we should observe that for a given class of equipment, they come with different attributes, for example, for 2 wands, they can differ in the following:\n",
    "1. The first wand requires a level of 46 to wield, whilst the second wand requires a level of 72 to wield (REQUIREMENTS)\n",
    "2. The first wand requires an intelligence of 106 to wield, whilst the second wand requires an intelligence of 164 to wield (REQUIREMENTS)\n",
    "3. The first wand grants 25% SPELL DAMAGE, whilst the second wand grants GAIN 19% OF DAMAGE AS EXTRA FIRE DAMAGE (ATTRIBUTES)\n",
    "4. etc...\n",
    "\n",
    "![different_attributes](images/different_attributes.png)\n",
    "\n",
    "#### The purpose of this take-home assignment is to:\n",
    "1. Scrape the website for current items -> prices\n",
    "2. The BASE currency that you should work with is EXALTED ORBS, but as a special bonus, you should make the algorithm flexible to the BASE CURRENCY of choice.\n",
    "3. The reason why you need to define a base currency is because there are many different currencies you can calculate prices in.\n",
    "4. Come up with an algorithm that can calculate the fair price of an item in the BASE CURRENCY, having some assumptions about outliers (hint) and averages (hint)\n",
    "5. For every item, identify their fair price in the BASE CURRENCY\n",
    "6. Identify every item that is being sold for below their fair price in the BASE CURRENCY by a certain percentage margin (e.g. 25%)\n",
    "7. This requires you to convert the QUOTE CURRENCY of the item into the BASE CURRENCY, which requires you to estimate QUOTE CURRENCY: BASE CURRENCY before calculation (hint)\n",
    "8. This algorithm should be able to ran live and reflect the latest items being misvalued when demonstrated\n",
    "9. For the purposes of this take-home assignment, we can focus only on ITEM CATEGORY: WAND, but the algorithm should generalize to any other item categories\n",
    "\n",
    "#### Notes:\n",
    "1. You should definitely create an account and take awhile to familiarize yourself with the market @ `https://www.pathofexile.com/trade2/search/poe2/Rise%20of%20the%20Abyssal`\n",
    "2. You should only work with `Standard` as opposed to the other `Leagues`\n",
    "3. `Corrupted` is an important attribute to include in your pricing, there are other important hidden attributes as well that you should take note of\n",
    "\n",
    "#### Useful Hints:\n",
    "1. You will need to scrape mapping of currencies to other currencies to convert the quote currencies to the base currencies in real time\n",
    "2. You will need to figure out the fair value of currencies (they are greatly affected by outliers, be careful)\n",
    "3. Outliers play a big role in this assignment, figuring out how to solve for them is a big part of it\n",
    "4. Both REQUIREMENTS and ATTRIBUTES have a part to play in price, you will need to include REQUIREMENTS in your pricing algorithm\n",
    "5. In order to work on this project, you will need to make some (strong) assumptions, list down all the assumptions that you think are important\n",
    "6. We will test this out-of-sample by looking at your ability to find underpriced items in real-time"
   ]
  },
  {
   "cell_type": "markdown",
   "id": "c7ba4254",
   "metadata": {},
   "source": [
    "# Getting Current Items\n",
    "\n",
    "To get current items -> prices, you need to scrape `https://www.pathofexile.com/trade2/search/poe2/Rise%20of%20the%20Abyssal`\n",
    "\n",
    "You pass in a payload and get back a list of IDs that meet your filters"
   ]
  },
  {
   "cell_type": "code",
   "execution_count": 6,
   "id": "fc50a2b2",
   "metadata": {},
   "outputs": [],
   "source": [
    "import requests\n",
    "\n",
    "payload = {\n",
    "    \"query\":{\n",
    "        \"status\":{\"option\":\"online\"},\n",
    "        \"stats\":[{\"type\":\"and\",\"filters\":[],\"disabled\":False}],\n",
    "        \"filters\":{\"type_filters\":{\"filters\":{\"category\":{\"option\":\"weapon.wand\"}},\"disabled\":False}}},\n",
    "    \"sort\":{\"price\":\"asc\"}\n",
    "}\n",
    "\n",
    "session = requests.Session()\n",
    "\n",
    "headers = {\n",
    "    # Normal headers (mapped from your DevTools capture)\n",
    "    \"Accept\": \"*/*\",\n",
    "    \"Accept-Encoding\": \"gzip, deflate, br, zstd\",\n",
    "    \"Accept-Language\": \"en-US,en;q=0.9\",\n",
    "    \"Content-Type\": \"application/json\",\n",
    "    \"Origin\": \"https://www.pathofexile.com\",\n",
    "    \"Priority\": \"u=1, i\",\n",
    "    \"Referer\": \"https://www.pathofexile.com/trade2/search/poe2/Rise%20of%20the%20Abyssal\",\n",
    "    \"Sec-CH-UA\": \"\\\"Not;A=Brand\\\";v=\\\"99\\\", \\\"Brave\\\";v=\\\"139\\\", \\\"Chromium\\\";v=\\\"139\\\"\",\n",
    "    \"Sec-CH-UA-Arch\": \"\\\"x86\\\"\",\n",
    "    \"Sec-CH-UA-Bitness\": \"\\\"64\\\"\",\n",
    "    \"Sec-CH-UA-Full-Version-List\": \"\\\"Not;A=Brand\\\";v=\\\"99.0.0.0\\\", \\\"Brave\\\";v=\\\"139.0.0.0\\\", \\\"Chromium\\\";v=\\\"139.0.0.0\\\"\",\n",
    "    \"Sec-CH-UA-Mobile\": \"?0\",\n",
    "    \"Sec-CH-UA-Model\": \"\",\n",
    "    \"Sec-CH-UA-Platform\": \"\\\"Windows\\\"\",\n",
    "    \"Sec-CH-UA-Platform-Version\": \"\\\"19.0.0\\\"\",\n",
    "    \"Sec-Fetch-Dest\": \"empty\",\n",
    "    \"Sec-Fetch-Mode\": \"cors\",\n",
    "    \"Sec-Fetch-Site\": \"same-origin\",\n",
    "    \"Sec-GPC\": \"1\",\n",
    "    \"User-Agent\": \"Mozilla/5.0 (Windows NT 10.0; Win64; x64) AppleWebKit/537.36 (KHTML, like Gecko) Chrome/139.0.0.0 Safari/537.36\",\n",
    "    \"X-Requested-With\": \"XMLHttpRequest\",\n",
    "}\n",
    "\n",
    "url = \"https://www.pathofexile.com/api/trade2/search/poe2/Rise%20of%20the%20Abyssal\"\n",
    "\n",
    "scrapped_wands = requests.post(\n",
    "    url,\n",
    "    json=payload,\n",
    "    headers=headers,\n",
    "    timeout=30,\n",
    ")"
   ]
  },
  {
   "cell_type": "code",
   "execution_count": 7,
   "id": "a8f04f20",
   "metadata": {},
   "outputs": [],
   "source": [
    "scrapped_wands_json = scrapped_wands.json()"
   ]
  },
  {
   "cell_type": "markdown",
   "id": "e63b3764",
   "metadata": {},
   "source": [
    "# Now we need to fetch for a single wand"
   ]
  },
  {
   "cell_type": "code",
   "execution_count": 8,
   "id": "b2113f6d",
   "metadata": {},
   "outputs": [
    {
     "data": {
      "text/plain": [
       "'yqmP2nefR'"
      ]
     },
     "execution_count": 8,
     "metadata": {},
     "output_type": "execute_result"
    }
   ],
   "source": [
    "scrapped_wands_json['id']"
   ]
  },
  {
   "cell_type": "code",
   "execution_count": 9,
   "id": "9fff92c0",
   "metadata": {},
   "outputs": [
    {
     "data": {
      "text/plain": [
       "'72f5b85a37251884378b7df050250486e9a216a44eac516d7918b95c0271d484'"
      ]
     },
     "execution_count": 9,
     "metadata": {},
     "output_type": "execute_result"
    }
   ],
   "source": [
    "scrapped_wands_json['result'][1]"
   ]
  },
  {
   "cell_type": "code",
   "execution_count": 10,
   "id": "add60223",
   "metadata": {},
   "outputs": [],
   "source": [
    "single_wand_url = \"https://www.pathofexile.com/api/trade2/fetch/\" + scrapped_wands_json['result'][1]\n",
    "\n",
    "single_wand_payload = {\n",
    "    \"query\": scrapped_wands_json['id'],\n",
    "    \"realm\": \"poe2\"\n",
    "}\n",
    "\n",
    "single_wand = requests.post(\n",
    "    single_wand_url,\n",
    "    json=single_wand_payload,\n",
    "    headers=headers,\n",
    "    timeout=30,\n",
    ")"
   ]
  },
  {
   "cell_type": "code",
   "execution_count": 11,
   "id": "f48b3819",
   "metadata": {},
   "outputs": [
    {
     "data": {
      "text/plain": [
       "{'result': [{'id': '72f5b85a37251884378b7df050250486e9a216a44eac516d7918b95c0271d484',\n",
       "   'listing': {'method': 'psapi',\n",
       "    'indexed': '2025-08-29T22:00:33Z',\n",
       "    'stash': {'name': '6', 'x': 0, 'y': 8},\n",
       "    'price': {'type': '~price', 'amount': 1, 'currency': 'alch'},\n",
       "    'account': {'name': 'WZJ#5044',\n",
       "     'online': {'league': 'Rise of the Abyssal'},\n",
       "     'lastCharacterName': '蟹子莱莱',\n",
       "     'language': 'zh_TW',\n",
       "     'realm': 'poe2'},\n",
       "    'whisper': '@蟹子莱莱 你好，我想購買 凋零法杖 標價 1 alch 在 Rise of the Abyssal (倉庫頁 \"6\"; 位置: 左 1, 上 9)'},\n",
       "   'item': {'realm': 'poe2',\n",
       "    'verified': True,\n",
       "    'w': 1,\n",
       "    'h': 3,\n",
       "    'icon': 'https://web.poecdn.com/gen/image/WzI1LDE0LHsiZiI6IjJESXRlbXMvV2VhcG9ucy9PbmVIYW5kV2VhcG9ucy9XYW5kcy9CYXNldHlwZXMvV2FuZDAxIiwidyI6MSwiaCI6Mywic2NhbGUiOjEsInJlYWxtIjoicG9lMiJ9XQ/8b127e7050/Wand01.png',\n",
       "    'league': 'Rise of the Abyssal',\n",
       "    'id': '72f5b85a37251884378b7df050250486e9a216a44eac516d7918b95c0271d484',\n",
       "    'name': '',\n",
       "    'typeLine': 'Withered Wand',\n",
       "    'baseType': 'Withered Wand',\n",
       "    'rarity': 'Magic',\n",
       "    'ilvl': 7,\n",
       "    'identified': False,\n",
       "    'note': '~price 1 alch',\n",
       "    'properties': [{'name': '[Wand]', 'values': [], 'displayMode': 0}],\n",
       "    'requirements': [{'name': '[Intelligence|Intelligence]',\n",
       "      'values': [['14', 0]],\n",
       "      'displayMode': 1,\n",
       "      'type': 65}],\n",
       "    'grantedSkills': [{'name': 'Grants Skill',\n",
       "      'values': [['Level 3 Chaos Bolt', 25]],\n",
       "      'displayMode': 0,\n",
       "      'icon': 'https://web.poecdn.com/gen/image/WzIxLDE0LHsiayI6IjJEQXJ0L1NraWxsSWNvbnMvQ2hhb3NCb2x0V2VhcG9uU2tpbGwiLCJyZWFsbSI6InBvZTIifV0/fa196653c2/ChaosBoltWeaponSkill.png'}],\n",
       "    'frameType': 1,\n",
       "    'extended': {'mods': {},\n",
       "     'hashes': {'skill': [['skill.weapon_granted_chaosbolt', None]]}}}}]}"
      ]
     },
     "execution_count": 11,
     "metadata": {},
     "output_type": "execute_result"
    }
   ],
   "source": [
    "single_wand.json()"
   ]
  },
  {
   "cell_type": "markdown",
   "id": "105a0ad6",
   "metadata": {},
   "source": [
    "# Why This Take Home Project\n",
    "\n",
    "Firstly, this is quite a difficult project that requires cross-domain skills, which is something we work with every single day.\n",
    "It requires you to have:\n",
    "1. Sufficient dev skills to navigate working with requests, I/O, concurrency etc. and put together a decent structure to bring this project to life.\n",
    "2. Sufficent quant researcher skills to approach solving pricing AND\n",
    "3. Sufficient data scientist skills to arrange messy data into structured clean data and to build the necessary models to solve this (hint) AND\n",
    "4. Being extremely autonomous and resourceful - much of this project will require you to FIGURE THINGS OUT and GET THE INFORMATION YOU NEED, all traits of people we love working with.\n",
    "5. Be intelligent enough to abstract away the distractions. It does not matter that you don't know how to play the game.\n",
    "\n",
    "Secondly, we want hard projects that ChatGPT is not trained to solve so as to encourage original thinking. You are free to use any tools you need to use to solve this. But you will still need to be the one coming up with the assumptions and algorithms, because ChatGPT would not have seen this solution.\n",
    "\n",
    "# What Do We Expect?\n",
    "\n",
    "1. Deliver a well-defined, well-written Class with a method that can take in a base_currency, a percentage discount, and a `filter`, and returns a list of all items of a given `filter` that is sold for less than their percentage discount on the fair price.\n",
    "2. To do that, you first need to have a model that can determine the fair price of all items."
   ]
  },
  {
   "cell_type": "markdown",
   "id": "2433308f",
   "metadata": {},
   "source": []
  }
 ],
 "metadata": {
  "kernelspec": {
   "display_name": "base",
   "language": "python",
   "name": "python3"
  },
  "language_info": {
   "codemirror_mode": {
    "name": "ipython",
    "version": 3
   },
   "file_extension": ".py",
   "mimetype": "text/x-python",
   "name": "python",
   "nbconvert_exporter": "python",
   "pygments_lexer": "ipython3",
   "version": "3.12.4"
  }
 },
 "nbformat": 4,
 "nbformat_minor": 5
}
